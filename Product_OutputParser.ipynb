{
  "cells": [
    {
      "cell_type": "code",
      "execution_count": 1,
      "metadata": {
        "colab": {
          "base_uri": "https://localhost:8080/"
        },
        "id": "RRYSu48huSUW",
        "outputId": "63df3719-8f37-47b3-fc0c-96e1dec869b9"
      },
      "outputs": [
        {
          "name": "stdout",
          "output_type": "stream",
          "text": [
            "\u001b[2K     \u001b[90m━━━━━━━━━━━━━━━━━━━━━━━━━━━━━━━━━━━━━━━━\u001b[0m \u001b[32m1.4/1.4 MB\u001b[0m \u001b[31m7.1 MB/s\u001b[0m eta \u001b[36m0:00:00\u001b[0m\n",
            "\u001b[2K     \u001b[90m━━━━━━━━━━━━━━━━━━━━━━━━━━━━━━━━━━━━━━━━\u001b[0m \u001b[32m73.6/73.6 kB\u001b[0m \u001b[31m5.1 MB/s\u001b[0m eta \u001b[36m0:00:00\u001b[0m\n",
            "\u001b[2K     \u001b[90m━━━━━━━━━━━━━━━━━━━━━━━━━━━━━━━━━━━━━━━━\u001b[0m \u001b[32m1.7/1.7 MB\u001b[0m \u001b[31m13.1 MB/s\u001b[0m eta \u001b[36m0:00:00\u001b[0m\n",
            "\u001b[2K     \u001b[90m━━━━━━━━━━━━━━━━━━━━━━━━━━━━━━━━━━━━━━━━\u001b[0m \u001b[32m41.3/41.3 kB\u001b[0m \u001b[31m1.3 MB/s\u001b[0m eta \u001b[36m0:00:00\u001b[0m\n",
            "\u001b[2K     \u001b[90m━━━━━━━━━━━━━━━━━━━━━━━━━━━━━━━━━━━━━━━━\u001b[0m \u001b[32m90.0/90.0 kB\u001b[0m \u001b[31m6.3 MB/s\u001b[0m eta \u001b[36m0:00:00\u001b[0m\n",
            "\u001b[2K     \u001b[90m━━━━━━━━━━━━━━━━━━━━━━━━━━━━━━━━━━━━━━━━\u001b[0m \u001b[32m49.4/49.4 kB\u001b[0m \u001b[31m2.8 MB/s\u001b[0m eta \u001b[36m0:00:00\u001b[0m\n",
            "\u001b[?25h"
          ]
        }
      ],
      "source": [
        "!pip -q install langchain openai tiktoken cohere"
      ]
    },
    {
      "cell_type": "code",
      "execution_count": 87,
      "metadata": {
        "id": "dNA4TsHpu6OM"
      },
      "outputs": [],
      "source": [
        "import os\n",
        "\n",
        "os.environ[\"OPENAI_API_KEY\"] = \"\""
      ]
    },
    {
      "cell_type": "code",
      "execution_count": 88,
      "metadata": {
        "colab": {
          "base_uri": "https://localhost:8080/"
        },
        "id": "J-KFB7J_u_3L",
        "outputId": "ba7e6f0f-7a01-4f9e-f1e4-b37bb90d0f09"
      },
      "outputs": [
        {
          "name": "stdout",
          "output_type": "stream",
          "text": [
            "Name: langchain\n",
            "Version: 0.0.242\n",
            "Summary: Building applications with LLMs through composability\n",
            "Home-page: https://www.github.com/hwchase17/langchain\n",
            "Author: \n",
            "Author-email: \n",
            "License: MIT\n",
            "Location: /usr/local/lib/python3.10/dist-packages\n",
            "Requires: aiohttp, async-timeout, dataclasses-json, langsmith, numexpr, numpy, openapi-schema-pydantic, pydantic, PyYAML, requests, SQLAlchemy, tenacity\n",
            "Required-by: \n"
          ]
        }
      ],
      "source": [
        "!pip show langchain"
      ]
    },
    {
      "cell_type": "markdown",
      "metadata": {
        "id": "HqwsGJDhvAQ5"
      },
      "source": [
        "# Intro to LangChain Output Parsers\n"
      ]
    },
    {
      "cell_type": "code",
      "execution_count": 89,
      "metadata": {
        "id": "yrEsK0iKrbv0"
      },
      "outputs": [],
      "source": [
        "from langchain.chat_models import ChatOpenAI\n",
        "\n",
        "chat_llm = ChatOpenAI(temperature=0.15)"
      ]
    },
    {
      "cell_type": "markdown",
      "metadata": {
        "id": "1ngY595Xun3D"
      },
      "source": [
        "## Get the output as JSON"
      ]
    },
    {
      "cell_type": "code",
      "execution_count": 90,
      "metadata": {
        "id": "VhkCPsSPu0m_"
      },
      "outputs": [],
      "source": [
        "template_string = \"\"\"You are a master product consulatant who specializes in tellings users about pros and cons with respect to product description and user description. \\\n",
        "You give detailed answer everytime.\n",
        "\n",
        "Take the product description and user description below delimited by triple backticks and use it to pros and cons based on them.\n",
        "\n",
        "product description: ```{product_description}```\n",
        "\n",
        "user description : ```{user_description}```\n",
        "\n",
        "then based on the given descriptions and pros and cons give the personalised product score 1-10 for how user to purchase it or ignore.\n",
        "\n",
        "Format the output as JSON with the following keys:\n",
        "Product Brand\n",
        "Product Name\n",
        "Pros\n",
        "Cons\n",
        "Score\n",
        "\"\"\""
      ]
    },
    {
      "cell_type": "code",
      "execution_count": 91,
      "metadata": {
        "id": "av1MTf2ru0nK"
      },
      "outputs": [],
      "source": [
        "from langchain.prompts import ChatPromptTemplate\n",
        "\n",
        "prompt_template = ChatPromptTemplate.from_template(template_string)\n"
      ]
    },
    {
      "cell_type": "code",
      "execution_count": 92,
      "metadata": {
        "colab": {
          "base_uri": "https://localhost:8080/"
        },
        "id": "JpK_te7du0nK",
        "outputId": "f012f456-e937-48bc-ffa1-0544ff712005"
      },
      "outputs": [
        {
          "data": {
            "text/plain": [
              "PromptTemplate(input_variables=['product_description', 'user_description'], output_parser=None, partial_variables={}, template='You are a master product consulatant who specializes in tellings users about pros and cons with respect to product description and user description. You give detailed answer everytime.\\n\\nTake the product description and user description below delimited by triple backticks and use it to pros and cons based on them.\\n\\nproduct description: ```{product_description}```\\n\\nuser description : ```{user_description}```\\n\\nthen based on the given descriptions and pros and cons give the personalised product score 1-10 for how user to purchase it or ignore.\\n\\nFormat the output as JSON with the following keys:\\nProduct Brand\\nProduct Name\\nPros\\nCons\\nScore\\n', template_format='f-string', validate_template=True)"
            ]
          },
          "execution_count": 92,
          "metadata": {},
          "output_type": "execute_result"
        }
      ],
      "source": [
        "prompt_template.messages[0].prompt"
      ]
    },
    {
      "cell_type": "code",
      "execution_count": 93,
      "metadata": {
        "id": "DoqYUtiUArgI"
      },
      "outputs": [],
      "source": [
        "product_description = '''OS\t‎Android 13.0\n",
        "RAM\t‎6 GB\n",
        "Product Dimensions\t‎0.9 x 7.7 x 16.2 cm; 208 Grams\n",
        "Batteries\t‎1 Lithium Ion batteries required. (included)\n",
        "Item model number\t‎SM-M346B\n",
        "Wireless communication technologies\t‎Cellular\n",
        "Connectivity technologies\t‎Bluetooth, Wi-Fi, USB\n",
        "GPS\t‎True\n",
        "Special features\t‎Fast Charging Support, Dual SIM, Always On Display, Mobile Hotspot Capability, Built-In GPS\n",
        "Other display features\t‎Wireless\n",
        "Device interface - primary\t‎Touchscreen\n",
        "Resolution\t‎1080 x 2340\n",
        "Other camera features\t‎Rear, Front\n",
        "Audio Jack\t‎3.5 mm\n",
        "Form factor\t‎Bar\n",
        "Colour\t‎Dark Blue\n",
        "Battery Power Rating\t‎6000\n",
        "Whats in the box\t‎Device | Data Cable (USB Type C-to-C) | Ejection Pin | QSG\n",
        "Manufacturer\t‎Samsung'''"
      ]
    },
    {
      "cell_type": "code",
      "execution_count": 94,
      "metadata": {
        "id": "G4hTYwEeAwDe"
      },
      "outputs": [],
      "source": [
        "user_description = \"I want t obuy a mobile phone with 8gb ram, i want to use for gaming and i also need a good camera. must have long time battery and light in weight. memory should be atleast 500gb\""
      ]
    },
    {
      "cell_type": "code",
      "execution_count": 95,
      "metadata": {
        "id": "EEshuZ87u0nK"
      },
      "outputs": [],
      "source": [
        "custom_answer = prompt_template.format_messages(product_description= product_description, user_description = user_description)"
      ]
    },
    {
      "cell_type": "code",
      "execution_count": 96,
      "metadata": {
        "colab": {
          "base_uri": "https://localhost:8080/"
        },
        "id": "Wy5WtrBRu0nK",
        "outputId": "eaa10b16-246f-440a-efd7-4e6f217fb4bb"
      },
      "outputs": [
        {
          "data": {
            "text/plain": [
              "[HumanMessage(content='You are a master product consulatant who specializes in tellings users about pros and cons with respect to product description and user description. You give detailed answer everytime.\\n\\nTake the product description and user description below delimited by triple backticks and use it to pros and cons based on them.\\n\\nproduct description: ```OS\\t\\u200eAndroid 13.0\\nRAM\\t\\u200e6 GB\\nProduct Dimensions\\t\\u200e0.9 x 7.7 x 16.2 cm; 208 Grams\\nBatteries\\t\\u200e1 Lithium Ion batteries required. (included)\\nItem model number\\t\\u200eSM-M346B\\nWireless communication technologies\\t\\u200eCellular\\nConnectivity technologies\\t\\u200eBluetooth, Wi-Fi, USB\\nGPS\\t\\u200eTrue\\nSpecial features\\t\\u200eFast Charging Support, Dual SIM, Always On Display, Mobile Hotspot Capability, Built-In GPS\\nOther display features\\t\\u200eWireless\\nDevice interface - primary\\t\\u200eTouchscreen\\nResolution\\t\\u200e1080 x 2340\\nOther camera features\\t\\u200eRear, Front\\nAudio Jack\\t\\u200e3.5 mm\\nForm factor\\t\\u200eBar\\nColour\\t\\u200eDark Blue\\nBattery Power Rating\\t\\u200e6000\\nWhats in the box\\t\\u200eDevice | Data Cable (USB Type C-to-C) | Ejection Pin | QSG\\nManufacturer\\t\\u200eSamsung```\\n\\nuser description : ```I want t obuy a mobile phone with 8gb ram, i want to use for gaming and i also need a good camera. must have long time battery and light in weight. memory should be atleast 500gb```\\n\\nthen based on the given descriptions and pros and cons give the personalised product score 1-10 for how user to purchase it or ignore.\\n\\nFormat the output as JSON with the following keys:\\nProduct Brand\\nProduct Name\\nPros\\nCons\\nScore\\n', additional_kwargs={}, example=False)]"
            ]
          },
          "execution_count": 96,
          "metadata": {},
          "output_type": "execute_result"
        }
      ],
      "source": [
        "custom_answer"
      ]
    },
    {
      "cell_type": "code",
      "execution_count": 97,
      "metadata": {
        "id": "wuyDMenyu0nK"
      },
      "outputs": [],
      "source": [
        "consultant_response = chat_llm(custom_answer)"
      ]
    },
    {
      "cell_type": "code",
      "execution_count": 98,
      "metadata": {
        "colab": {
          "base_uri": "https://localhost:8080/"
        },
        "id": "MCrN3wF5u0nK",
        "outputId": "969ce82c-9af4-41a1-8664-d16499d8f33f"
      },
      "outputs": [
        {
          "name": "stdout",
          "output_type": "stream",
          "text": [
            "{\n",
            "  \"Product Brand\": \"Samsung\",\n",
            "  \"Product Name\": \"SM-M346B\",\n",
            "  \"Pros\": [\n",
            "    \"6 GB RAM for smooth multitasking\",\n",
            "    \"Fast Charging Support for quick battery charging\",\n",
            "    \"Dual SIM capability for using two phone numbers simultaneously\",\n",
            "    \"Always On Display feature for convenient access to information\",\n",
            "    \"Mobile Hotspot Capability for sharing internet connection with other devices\",\n",
            "    \"Built-In GPS for accurate navigation\",\n",
            "    \"Good camera quality with rear and front camera features\",\n",
            "    \"Lightweight design (208 grams)\",\n",
            "    \"Long battery life with a power rating of 6000\",\n",
            "    \"Comes with necessary accessories (Data Cable, Ejection Pin, QSG)\"\n",
            "  ],\n",
            "  \"Cons\": [\n",
            "    \"Does not meet the user's requirement of 8 GB RAM\",\n",
            "    \"Memory capacity is not specified, but it is unlikely to be 500 GB\",\n",
            "    \"No mention of the camera resolution\",\n",
            "    \"No information about the weight of the device\"\n",
            "  ],\n",
            "  \"Score\": 5\n",
            "}\n"
          ]
        }
      ],
      "source": [
        "print(consultant_response.content)"
      ]
    },
    {
      "cell_type": "markdown",
      "metadata": {
        "id": "cL1FZe3iG1Ti"
      },
      "source": [
        "## Structured Output Parser"
      ]
    },
    {
      "cell_type": "code",
      "execution_count": 100,
      "metadata": {
        "colab": {
          "base_uri": "https://localhost:8080/"
        },
        "id": "nA1CXyUTGoTE",
        "outputId": "8934e900-183f-4409-bdeb-9a3668810bc9"
      },
      "outputs": [
        {
          "data": {
            "text/plain": [
              "{'Product Brand': 'Samsung',\n",
              " 'Product Name': 'SM-M346B',\n",
              " 'Pros': ['6 GB RAM for smooth gaming experience',\n",
              "  'Good camera quality',\n",
              "  'Long battery life',\n",
              "  'Lightweight design',\n",
              "  'Expandable memory up to 500 GB'],\n",
              " 'Cons': ['The user requested 8 GB RAM, but this phone only has 6 GB RAM',\n",
              "  'The phone does not have 500 GB internal memory, but it does support expandable memory up to 500 GB'],\n",
              " 'Score': 7}"
            ]
          },
          "execution_count": 100,
          "metadata": {},
          "output_type": "execute_result"
        }
      ],
      "source": [
        "{\n",
        "  \"Product Brand\": \"Samsung\",\n",
        "  \"Product Name\": \"SM-M346B\",\n",
        "  \"Pros\": [\n",
        "    \"6 GB RAM for smooth gaming experience\",\n",
        "    \"Good camera quality\",\n",
        "    \"Long battery life\",\n",
        "    \"Lightweight design\",\n",
        "    \"Expandable memory up to 500 GB\"\n",
        "  ],\n",
        "  \"Cons\": [\n",
        "    \"The user requested 8 GB RAM, but this phone only has 6 GB RAM\",\n",
        "    \"The phone does not have 500 GB internal memory, but it does support expandable memory up to 500 GB\"\n",
        "  ],\n",
        "  \"Score\": 7\n",
        "}"
      ]
    },
    {
      "cell_type": "code",
      "execution_count": 101,
      "metadata": {
        "id": "MpelfWvfvxdv"
      },
      "outputs": [],
      "source": [
        "from langchain.output_parsers import ResponseSchema\n",
        "from langchain.output_parsers import StructuredOutputParser\n",
        "\n",
        "product_brand_schema = ResponseSchema(name=\"Product_Brand\",\n",
        "                             description=\"This is the name of the product\\'s brand\")\n",
        "\n",
        "product_name_schema = ResponseSchema(name=\"Product Name\",\n",
        "                                      description=\"This is the name of product\")\n",
        "\n",
        "pros_schema = ResponseSchema(name=\"Pros\",\n",
        "                                    description=\"This tells about how much product description matches user description\")\n",
        "\n",
        "cons_schema = ResponseSchema(name=\"Cons\",\n",
        "                                    description=\"This tells about how much product description does not matches user description\")\n",
        "\n",
        "score_schema = ResponseSchema(name=\"Score\",\n",
        "                                    description=\"This is the score given to product based on user description\")\n",
        "\n",
        "response_schemas = [product_brand_schema,product_name_schema, pros_schema, cons_schema, score_schema]"
      ]
    },
    {
      "cell_type": "code",
      "execution_count": 102,
      "metadata": {
        "id": "HLd6pkh-whKY"
      },
      "outputs": [],
      "source": [
        "output_parser = StructuredOutputParser.from_response_schemas(response_schemas)"
      ]
    },
    {
      "cell_type": "code",
      "execution_count": 103,
      "metadata": {
        "id": "RzTZLFeMwlsK"
      },
      "outputs": [],
      "source": [
        "format_instructions = output_parser.get_format_instructions()"
      ]
    },
    {
      "cell_type": "code",
      "execution_count": 110,
      "metadata": {
        "colab": {
          "base_uri": "https://localhost:8080/"
        },
        "id": "zOfAmQ7LwpJC",
        "outputId": "61c599b5-85cd-4b3b-8ebe-58bf90a722c8"
      },
      "outputs": [
        {
          "name": "stdout",
          "output_type": "stream",
          "text": [
            "The output should be a markdown code snippet formatted in the following schema, including the leading and trailing \"```json\" and \"```\":\n",
            "\n",
            "```json\n",
            "{\n",
            "\t\"Product_Brand\": string  // This is the name of the product's brand\n",
            "\t\"Product Name\": string  // This is the name of product\n",
            "\t\"Pros\": string  // This tells about how much product description matches user description\n",
            "\t\"Cons\": string  // This tells about how much product description does not matches user description\n",
            "\t\"Score\": string  // This is the score given to product based on user description\n",
            "}\n",
            "```\n"
          ]
        }
      ],
      "source": [
        "print(format_instructions)"
      ]
    },
    {
      "cell_type": "code",
      "execution_count": 111,
      "metadata": {
        "id": "KMPo1SRAw0J2"
      },
      "outputs": [],
      "source": [
        "template_string = \"\"\"You are a master product consulatant who specializes in tellings users about pros and cons with respect to product description and user description. \\\n",
        "You give detailed answer everytime.\n",
        "\n",
        "Take the product description and user description below delimited by triple backticks and use it to pros and cons based on them.\n",
        "\n",
        "product description: ```{product_description}```\n",
        "\n",
        "user description : ```{user_description}```\n",
        "\n",
        "then based on the given descriptions and pros and cons give the personalised product score 1-10 for how user to purchase it or ignore.\n",
        "\n",
        "{format_instructions}\n",
        "\"\"\""
      ]
    },
    {
      "cell_type": "code",
      "execution_count": 112,
      "metadata": {
        "id": "pqtIktE8xHT0"
      },
      "outputs": [],
      "source": [
        "prompt = ChatPromptTemplate.from_template(template=template_string)\n",
        "\n",
        "messages = prompt.format_messages(product_description=product_description,\n",
        "                                  user_description = user_description,\n",
        "                                format_instructions=format_instructions)"
      ]
    },
    {
      "cell_type": "code",
      "execution_count": 107,
      "metadata": {
        "colab": {
          "base_uri": "https://localhost:8080/"
        },
        "id": "-jQZTUEGy2Bv",
        "outputId": "06e2d8dd-497d-41a1-8fd1-96b39b99841a"
      },
      "outputs": [
        {
          "data": {
            "text/plain": [
              "[HumanMessage(content='You are a master product consulatant who specializes in tellings users about pros and cons with respect to product description and user description. You give detailed answer everytime.\\n\\nTake the product description and user description below delimited by triple backticks and use it to pros and cons based on them.\\n\\nproduct description: ```OS\\t\\u200eAndroid 13.0\\nRAM\\t\\u200e6 GB\\nProduct Dimensions\\t\\u200e0.9 x 7.7 x 16.2 cm; 208 Grams\\nBatteries\\t\\u200e1 Lithium Ion batteries required. (included)\\nItem model number\\t\\u200eSM-M346B\\nWireless communication technologies\\t\\u200eCellular\\nConnectivity technologies\\t\\u200eBluetooth, Wi-Fi, USB\\nGPS\\t\\u200eTrue\\nSpecial features\\t\\u200eFast Charging Support, Dual SIM, Always On Display, Mobile Hotspot Capability, Built-In GPS\\nOther display features\\t\\u200eWireless\\nDevice interface - primary\\t\\u200eTouchscreen\\nResolution\\t\\u200e1080 x 2340\\nOther camera features\\t\\u200eRear, Front\\nAudio Jack\\t\\u200e3.5 mm\\nForm factor\\t\\u200eBar\\nColour\\t\\u200eDark Blue\\nBattery Power Rating\\t\\u200e6000\\nWhats in the box\\t\\u200eDevice | Data Cable (USB Type C-to-C) | Ejection Pin | QSG\\nManufacturer\\t\\u200eSamsung```\\n\\nuser description : ```I want t obuy a mobile phone with 8gb ram, i want to use for gaming and i also need a good camera. must have long time battery and light in weight. memory should be atleast 500gb```\\n\\nthen based on the given descriptions and pros and cons give the personalised product score 1-10 for how user to purchase it or ignore.\\n\\nThe output should be a markdown code snippet formatted in the following schema, including the leading and trailing \"```json\" and \"```\":\\n\\n```json\\n{\\n\\t\"Product_Brand\": string  // This is the name of the product\\'s brand\\n\\t\"Product Name\": string  // This is the name of product\\n\\t\"Pros\": string  // This tells about how much product description matches user description\\n\\t\"Cons\": string  // This tells about how much product description does not matches user description\\n\\t\"Score\": string  // This is the score given to product based on user description\\n}\\n```\\n', additional_kwargs={}, example=False)]"
            ]
          },
          "execution_count": 107,
          "metadata": {},
          "output_type": "execute_result"
        }
      ],
      "source": [
        "messages"
      ]
    },
    {
      "cell_type": "code",
      "execution_count": 113,
      "metadata": {
        "colab": {
          "base_uri": "https://localhost:8080/"
        },
        "id": "fnPY3OSNy3c7",
        "outputId": "db857284-f1d8-4ba4-adb0-c508d12a3577"
      },
      "outputs": [
        {
          "name": "stdout",
          "output_type": "stream",
          "text": [
            "You are a master product consulatant who specializes in tellings users about pros and cons with respect to product description and user description. You give detailed answer everytime.\n",
            "\n",
            "Take the product description and user description below delimited by triple backticks and use it to pros and cons based on them.\n",
            "\n",
            "product description: ```OS\t‎Android 13.0\n",
            "RAM\t‎6 GB\n",
            "Product Dimensions\t‎0.9 x 7.7 x 16.2 cm; 208 Grams\n",
            "Batteries\t‎1 Lithium Ion batteries required. (included)\n",
            "Item model number\t‎SM-M346B\n",
            "Wireless communication technologies\t‎Cellular\n",
            "Connectivity technologies\t‎Bluetooth, Wi-Fi, USB\n",
            "GPS\t‎True\n",
            "Special features\t‎Fast Charging Support, Dual SIM, Always On Display, Mobile Hotspot Capability, Built-In GPS\n",
            "Other display features\t‎Wireless\n",
            "Device interface - primary\t‎Touchscreen\n",
            "Resolution\t‎1080 x 2340\n",
            "Other camera features\t‎Rear, Front\n",
            "Audio Jack\t‎3.5 mm\n",
            "Form factor\t‎Bar\n",
            "Colour\t‎Dark Blue\n",
            "Battery Power Rating\t‎6000\n",
            "Whats in the box\t‎Device | Data Cable (USB Type C-to-C) | Ejection Pin | QSG\n",
            "Manufacturer\t‎Samsung```\n",
            "\n",
            "user description : ```I want t obuy a mobile phone with 8gb ram, i want to use for gaming and i also need a good camera. must have long time battery and light in weight. memory should be atleast 500gb```\n",
            "\n",
            "then based on the given descriptions and pros and cons give the personalised product score 1-10 for how user to purchase it or ignore.\n",
            "\n",
            "The output should be a markdown code snippet formatted in the following schema, including the leading and trailing \"```json\" and \"```\":\n",
            "\n",
            "```json\n",
            "{\n",
            "\t\"Product_Brand\": string  // This is the name of the product's brand\n",
            "\t\"Product Name\": string  // This is the name of product\n",
            "\t\"Pros\": string  // This tells about how much product description matches user description\n",
            "\t\"Cons\": string  // This tells about how much product description does not matches user description\n",
            "\t\"Score\": string  // This is the score given to product based on user description\n",
            "}\n",
            "```\n",
            "\n"
          ]
        }
      ],
      "source": [
        "print(messages[0].content)"
      ]
    },
    {
      "cell_type": "code",
      "execution_count": 114,
      "metadata": {
        "colab": {
          "base_uri": "https://localhost:8080/"
        },
        "id": "bzE6U9IRy9Ie",
        "outputId": "d46fa8cc-5e8f-45f7-faa2-a259ff3e502e"
      },
      "outputs": [
        {
          "data": {
            "text/plain": [
              "AIMessage(content='```json\\n{\\n\\t\"Product_Brand\": \"Samsung\",\\n\\t\"Product Name\": \"SM-M346B\",\\n\\t\"Pros\": \"The product has 6 GB RAM which is less than the user\\'s requirement of 8 GB, but it should still be sufficient for gaming. The product has a good camera with rear and front camera features. It has a long-lasting battery with a power rating of 6000. The product is light in weight at 208 grams. It has a memory of 500 GB, which meets the user\\'s requirement. The product also has fast charging support, always-on display, and built-in GPS.\",\\n\\t\"Cons\": \"The product has less RAM than the user\\'s requirement. The product dimensions are not mentioned, so it is unclear if it meets the user\\'s preference for a compact size. The product does not mention the weight, so it is uncertain if it is light enough for the user\\'s preference.\",\\n\\t\"Score\": \"7\"\\n}\\n```', additional_kwargs={}, example=False)"
            ]
          },
          "execution_count": 114,
          "metadata": {},
          "output_type": "execute_result"
        }
      ],
      "source": [
        "response = chat_llm(messages)\n",
        "response"
      ]
    },
    {
      "cell_type": "code",
      "execution_count": 49,
      "metadata": {
        "id": "Ze9NjiSMzTkV"
      },
      "outputs": [],
      "source": [
        "response_as_dict = output_parser.parse(response.content)"
      ]
    },
    {
      "cell_type": "code",
      "execution_count": 50,
      "metadata": {
        "colab": {
          "base_uri": "https://localhost:8080/"
        },
        "id": "o1vTnqM6zdCv",
        "outputId": "1345581d-1340-4e54-e5dd-6b1c153e3b20"
      },
      "outputs": [
        {
          "data": {
            "text/plain": [
              "{'Product_Brand': 'Samsung',\n",
              " 'Product Name': 'SM-M346B',\n",
              " 'Pros': \"The product has 6 GB RAM which is less than the user's requirement of 8 GB RAM. It has a good camera with rear and front features. The battery power rating is 6000 which indicates a long battery life. The weight of the phone is 208 grams which can be considered light. The product has a memory of 500 GB which meets the user's requirement.\",\n",
              " 'Cons': \"The product has a lower RAM capacity than the user's requirement. The product does not mention the camera specifications in terms of megapixels or any other details. The product does not mention the exact weight of the phone. The product does not mention the type of memory (internal or external) and it is unlikely to have a built-in memory of 500 GB.\",\n",
              " 'Score': '6'}"
            ]
          },
          "execution_count": 50,
          "metadata": {},
          "output_type": "execute_result"
        }
      ],
      "source": [
        "response_as_dict"
      ]
    },
    {
      "cell_type": "code",
      "execution_count": 115,
      "metadata": {
        "colab": {
          "base_uri": "https://localhost:8080/"
        },
        "id": "02QEVfWBzeEr",
        "outputId": "e147f2c6-3edc-473f-a123-94468346863c"
      },
      "outputs": [
        {
          "data": {
            "text/plain": [
              "dict"
            ]
          },
          "execution_count": 115,
          "metadata": {},
          "output_type": "execute_result"
        }
      ],
      "source": [
        "type(response_as_dict)"
      ]
    },
    {
      "cell_type": "code",
      "execution_count": 116,
      "metadata": {
        "colab": {
          "base_uri": "https://localhost:8080/",
          "height": 35
        },
        "id": "oLr5bpHUzriC",
        "outputId": "ec15f292-561c-4dc4-914e-2c85f5fca573"
      },
      "outputs": [
        {
          "data": {
            "application/vnd.google.colaboratory.intrinsic+json": {
              "type": "string"
            },
            "text/plain": [
              "'Samsung'"
            ]
          },
          "execution_count": 116,
          "metadata": {},
          "output_type": "execute_result"
        }
      ],
      "source": [
        "response_as_dict[\"Product_Brand\"]"
      ]
    },
    {
      "cell_type": "markdown",
      "metadata": {
        "id": "zU83ILdc0kgP"
      },
      "source": [
        "### Lets put it in a Chain"
      ]
    },
    {
      "cell_type": "code",
      "execution_count": 117,
      "metadata": {
        "id": "hfB2FYpgzwPJ"
      },
      "outputs": [],
      "source": [
        "from langchain.prompts import PromptTemplate, ChatPromptTemplate, HumanMessagePromptTemplate\n",
        "from langchain.chat_models import ChatOpenAI\n",
        "\n",
        "llm = ChatOpenAI(temperature=0.14)\n",
        "\n",
        "prompt = ChatPromptTemplate(\n",
        "    messages=[\n",
        "        HumanMessagePromptTemplate.from_template(template_string)\n",
        "    ],\n",
        "    input_variables=[\"product_description\", \"user_description\"],\n",
        "    partial_variables={\"format_instructions\": format_instructions},\n",
        "    output_parser=output_parser # here we add the output parser to the Prompt template\n",
        ")"
      ]
    },
    {
      "cell_type": "code",
      "execution_count": 118,
      "metadata": {
        "colab": {
          "base_uri": "https://localhost:8080/"
        },
        "id": "4uvkZ7Qo43xT",
        "outputId": "8535f484-d157-4768-e72a-c4ffe721ebfc"
      },
      "outputs": [
        {
          "data": {
            "text/plain": [
              "[HumanMessagePromptTemplate(prompt=PromptTemplate(input_variables=['format_instructions', 'product_description', 'user_description'], output_parser=None, partial_variables={}, template='You are a master product consulatant who specializes in tellings users about pros and cons with respect to product description and user description. You give detailed answer everytime.\\n\\nTake the product description and user description below delimited by triple backticks and use it to pros and cons based on them.\\n\\nproduct description: ```{product_description}```\\n\\nuser description : ```{user_description}```\\n\\nthen based on the given descriptions and pros and cons give the personalised product score 1-10 for how user to purchase it or ignore.\\n\\n{format_instructions}\\n', template_format='f-string', validate_template=True), additional_kwargs={})]"
            ]
          },
          "execution_count": 118,
          "metadata": {},
          "output_type": "execute_result"
        }
      ],
      "source": [
        "prompt.messages"
      ]
    },
    {
      "cell_type": "code",
      "execution_count": 119,
      "metadata": {
        "colab": {
          "base_uri": "https://localhost:8080/"
        },
        "id": "bWySidoQ5Sht",
        "outputId": "2d26db01-4c57-4337-f814-bba04f275880"
      },
      "outputs": [
        {
          "name": "stdout",
          "output_type": "stream",
          "text": [
            "Human: You are a master product consulatant who specializes in tellings users about pros and cons with respect to product description and user description. You give detailed answer everytime.\n",
            "\n",
            "Take the product description and user description below delimited by triple backticks and use it to pros and cons based on them.\n",
            "\n",
            "product description: ```OS\t‎Android 13.0\n",
            "RAM\t‎6 GB\n",
            "Product Dimensions\t‎0.9 x 7.7 x 16.2 cm; 208 Grams\n",
            "Batteries\t‎1 Lithium Ion batteries required. (included)\n",
            "Item model number\t‎SM-M346B\n",
            "Wireless communication technologies\t‎Cellular\n",
            "Connectivity technologies\t‎Bluetooth, Wi-Fi, USB\n",
            "GPS\t‎True\n",
            "Special features\t‎Fast Charging Support, Dual SIM, Always On Display, Mobile Hotspot Capability, Built-In GPS\n",
            "Other display features\t‎Wireless\n",
            "Device interface - primary\t‎Touchscreen\n",
            "Resolution\t‎1080 x 2340\n",
            "Other camera features\t‎Rear, Front\n",
            "Audio Jack\t‎3.5 mm\n",
            "Form factor\t‎Bar\n",
            "Colour\t‎Dark Blue\n",
            "Battery Power Rating\t‎6000\n",
            "Whats in the box\t‎Device | Data Cable (USB Type C-to-C) | Ejection Pin | QSG\n",
            "Manufacturer\t‎Samsung```\n",
            "\n",
            "user description : ```I want t obuy a mobile phone with 8gb ram, i want to use for gaming and i also need a good camera. must have long time battery and light in weight. memory should be atleast 500gb```\n",
            "\n",
            "then based on the given descriptions and pros and cons give the personalised product score 1-10 for how user to purchase it or ignore.\n",
            "\n",
            "The output should be a markdown code snippet formatted in the following schema, including the leading and trailing \"```json\" and \"```\":\n",
            "\n",
            "```json\n",
            "{\n",
            "\t\"Product_Brand\": string  // This is the name of the product's brand\n",
            "\t\"Product Name\": string  // This is the name of product\n",
            "\t\"Pros\": string  // This tells about how much product description matches user description\n",
            "\t\"Cons\": string  // This tells about how much product description does not matches user description\n",
            "\t\"Score\": string  // This is the score given to product based on user description\n",
            "}\n",
            "```\n",
            "\n"
          ]
        }
      ],
      "source": [
        "print(prompt.format(product_description= product_description,user_description= user_description))"
      ]
    },
    {
      "cell_type": "code",
      "execution_count": 120,
      "metadata": {
        "id": "DlwKv0kY2Szd"
      },
      "outputs": [],
      "source": [
        "from langchain.chains import LLMChain\n",
        "\n",
        "chain = LLMChain(llm=llm,\n",
        "                 prompt=prompt)"
      ]
    },
    {
      "cell_type": "code",
      "execution_count": 121,
      "metadata": {
        "colab": {
          "base_uri": "https://localhost:8080/"
        },
        "id": "rZw4kDnq2iRs",
        "outputId": "3b1a98d8-036a-4bf4-ea6e-51b1c5d1c005"
      },
      "outputs": [
        {
          "name": "stderr",
          "output_type": "stream",
          "text": [
            "/usr/local/lib/python3.10/dist-packages/langchain/chains/llm.py:275: UserWarning: The predict_and_parse method is deprecated, instead pass an output parser directly to LLMChain.\n",
            "  warnings.warn(\n"
          ]
        }
      ],
      "source": [
        "# we have to use predict_and_parse to make sure the output gets\n",
        "response = chain.predict_and_parse(product_description= product_description,user_description= user_description)"
      ]
    },
    {
      "cell_type": "code",
      "execution_count": 122,
      "metadata": {
        "colab": {
          "base_uri": "https://localhost:8080/"
        },
        "id": "uSx5z5CG27Wl",
        "outputId": "d38fd160-0376-47c3-b40a-706047d9f59c"
      },
      "outputs": [
        {
          "data": {
            "text/plain": [
              "dict"
            ]
          },
          "execution_count": 122,
          "metadata": {},
          "output_type": "execute_result"
        }
      ],
      "source": [
        "type(response)"
      ]
    },
    {
      "cell_type": "code",
      "execution_count": 123,
      "metadata": {
        "colab": {
          "base_uri": "https://localhost:8080/"
        },
        "id": "K_4HKP3a4f_t",
        "outputId": "0460a96c-56b0-4555-c24a-66ffdd5a623f"
      },
      "outputs": [
        {
          "data": {
            "text/plain": [
              "{'Product_Brand': 'Samsung',\n",
              " 'Product Name': 'SM-M346B',\n",
              " 'Pros': \"The product has 6 GB RAM which is less than the user's requirement of 8 GB, but it can still handle gaming reasonably well. It has a good camera with rear and front camera features. The battery power rating is 6000, which means it has a long-lasting battery. The product is light in weight at 208 grams. It has a memory of 500 GB, which meets the user's requirement. The product also has fast charging support, which is beneficial for gaming.\",\n",
              " 'Cons': \"The product has 6 GB RAM instead of the user's desired 8 GB, but it can still perform well for gaming. The product dimensions are 0.9 x 7.7 x 16.2 cm, which may not be considered as light in weight by some users. The product does not have 500 GB of internal storage, but it can support external storage options. The user's requirement for a good camera is met, but the product description does not provide specific details about the camera quality.\",\n",
              " 'Score': '8'}"
            ]
          },
          "execution_count": 123,
          "metadata": {},
          "output_type": "execute_result"
        }
      ],
      "source": [
        "response"
      ]
    },
    {
      "cell_type": "code",
      "execution_count": 124,
      "metadata": {
        "colab": {
          "base_uri": "https://localhost:8080/",
          "height": 35
        },
        "id": "Ylicub544hsX",
        "outputId": "d399ff45-6fc4-4b6a-b1da-793b5ac9c00f"
      },
      "outputs": [
        {
          "data": {
            "application/vnd.google.colaboratory.intrinsic+json": {
              "type": "string"
            },
            "text/plain": [
              "'8'"
            ]
          },
          "execution_count": 124,
          "metadata": {},
          "output_type": "execute_result"
        }
      ],
      "source": [
        "response[\"Score\"] # still a string"
      ]
    },
    {
      "cell_type": "markdown",
      "metadata": {
        "id": "CvbG-Ft2rpal"
      },
      "source": [
        "## CommaSeparatedListOutputParser"
      ]
    },
    {
      "cell_type": "code",
      "execution_count": 125,
      "metadata": {
        "id": "5CO5wf4fTs1J"
      },
      "outputs": [],
      "source": [
        "from langchain.output_parsers import CommaSeparatedListOutputParser\n",
        "from langchain.prompts import PromptTemplate, ChatPromptTemplate, HumanMessagePromptTemplate\n",
        "from langchain.llms import OpenAI\n",
        "from langchain.chat_models import ChatOpenAI"
      ]
    },
    {
      "cell_type": "code",
      "execution_count": 126,
      "metadata": {
        "id": "Io__7vH7Uj-7"
      },
      "outputs": [],
      "source": [
        "output_parser = CommaSeparatedListOutputParser()"
      ]
    },
    {
      "cell_type": "code",
      "execution_count": 127,
      "metadata": {
        "colab": {
          "base_uri": "https://localhost:8080/",
          "height": 35
        },
        "id": "XcxbbW3jxE4C",
        "outputId": "68d22de4-bd47-44b1-fb50-72aa32fffddd"
      },
      "outputs": [
        {
          "data": {
            "application/vnd.google.colaboratory.intrinsic+json": {
              "type": "string"
            },
            "text/plain": [
              "'Your response should be a list of comma separated values, eg: `foo, bar, baz`'"
            ]
          },
          "execution_count": 127,
          "metadata": {},
          "output_type": "execute_result"
        }
      ],
      "source": [
        "format_instructions = output_parser.get_format_instructions()\n",
        "format_instructions"
      ]
    },
    {
      "cell_type": "code",
      "execution_count": 128,
      "metadata": {
        "id": "-UHdGrkIUmuL"
      },
      "outputs": [],
      "source": [
        "\n",
        "new_template_string=\"roast me very sarcastically based on product brand {Product_Brand} and cons {Cons}:\\n\\n{format_instructions}\"\n",
        "\n",
        "prompt = ChatPromptTemplate(\n",
        "    messages=[\n",
        "        HumanMessagePromptTemplate.from_template(new_template_string)\n",
        "    ],\n",
        "    input_variables=[\"Product_Brand\", \"Cons\"],\n",
        "    partial_variables={\"format_instructions\": format_instructions}\n",
        ")\n"
      ]
    },
    {
      "cell_type": "code",
      "execution_count": 129,
      "metadata": {
        "id": "SmsHH8N2soZq"
      },
      "outputs": [],
      "source": [
        "Product_Brand = response[\"Product_Brand\"]\n",
        "Cons = response[\"Cons\"]"
      ]
    },
    {
      "cell_type": "code",
      "execution_count": 130,
      "metadata": {
        "id": "EwRkBB1pUqYO"
      },
      "outputs": [],
      "source": [
        "llm = ChatOpenAI(temperature=0.4)"
      ]
    },
    {
      "cell_type": "code",
      "execution_count": 131,
      "metadata": {
        "id": "shwDsFqNum_B"
      },
      "outputs": [],
      "source": [
        "messages_for_list_prompt = prompt.format_messages(Product_Brand= Product_Brand, Cons= Cons,\n",
        "                                format_instructions=format_instructions)"
      ]
    },
    {
      "cell_type": "code",
      "execution_count": 132,
      "metadata": {
        "colab": {
          "base_uri": "https://localhost:8080/"
        },
        "id": "PO35kn-rt8Ew",
        "outputId": "d3433ad7-4358-491a-f9c8-9510b7ac34e9"
      },
      "outputs": [
        {
          "data": {
            "text/plain": [
              "ChatPromptTemplate(input_variables=['Product_Brand', 'Cons'], output_parser=None, partial_variables={'format_instructions': 'Your response should be a list of comma separated values, eg: `foo, bar, baz`'}, messages=[HumanMessagePromptTemplate(prompt=PromptTemplate(input_variables=['Cons', 'Product_Brand', 'format_instructions'], output_parser=None, partial_variables={}, template='roast me very sarcastically based on product brand {Product_Brand} and cons {Cons}:\\n\\n{format_instructions}', template_format='f-string', validate_template=True), additional_kwargs={})])"
            ]
          },
          "execution_count": 132,
          "metadata": {},
          "output_type": "execute_result"
        }
      ],
      "source": [
        "prompt"
      ]
    },
    {
      "cell_type": "code",
      "execution_count": 133,
      "metadata": {
        "colab": {
          "base_uri": "https://localhost:8080/"
        },
        "id": "j4e_bKhXwio5",
        "outputId": "e353add2-eb85-4465-c738-c0663b0aca36"
      },
      "outputs": [
        {
          "data": {
            "text/plain": [
              "[HumanMessage(content=\"roast me very sarcastically based on product brand Samsung and cons The product has 6 GB RAM instead of the user's desired 8 GB, but it can still perform well for gaming. The product dimensions are 0.9 x 7.7 x 16.2 cm, which may not be considered as light in weight by some users. The product does not have 500 GB of internal storage, but it can support external storage options. The user's requirement for a good camera is met, but the product description does not provide specific details about the camera quality.:\\n\\nYour response should be a list of comma separated values, eg: `foo, bar, baz`\", additional_kwargs={}, example=False)]"
            ]
          },
          "execution_count": 133,
          "metadata": {},
          "output_type": "execute_result"
        }
      ],
      "source": [
        "messages_for_list_prompt"
      ]
    },
    {
      "cell_type": "code",
      "execution_count": 77,
      "metadata": {
        "id": "yCmjzw2puwCD"
      },
      "outputs": [],
      "source": [
        "output = llm(messages_for_list_prompt)"
      ]
    },
    {
      "cell_type": "code",
      "execution_count": 134,
      "metadata": {
        "colab": {
          "base_uri": "https://localhost:8080/",
          "height": 140
        },
        "id": "A8VGnD64Uxo2",
        "outputId": "51cf46ad-0821-4882-bf99-9fef96cc69c5"
      },
      "outputs": [
        {
          "data": {
            "application/vnd.google.colaboratory.intrinsic+json": {
              "type": "string"
            },
            "text/plain": [
              "'Oh, Samsung, the master of disappointment! You claim to be a tech giant, but can\\'t even meet the basic demands of your users. 8 GB RAM? Ha! Who needs that when you can settle for less? Clearly, Samsung believes in giving you just enough to keep you unsatisfied.\\n\\nAnd let\\'s talk about the size of this so-called \"lightweight\" product. At a whopping 0.9 x 7.7 x 16.2 cm, it\\'s practically a brick! Who needs a sleek and portable device when you can have something that resembles a mini-monolith? Samsung really knows how to make you feel like you\\'re carrying a burden in your pocket.\\n\\nBut wait, there\\'s more! The cherry on top of this disappointment sundae is the lack of a 500 GB memory. Samsung must think you\\'re living in the Stone Age, still clinging to the hope of having ample storage space. Sorry, but Samsung believes in keeping your digital life as cramped as possible.\\n\\nSo, congratulations Samsung, you\\'ve managed to underdeliver once again. Your inability to meet basic user demands truly sets you apart from the competition. Keep up the mediocre work!'"
            ]
          },
          "execution_count": 134,
          "metadata": {},
          "output_type": "execute_result"
        }
      ],
      "source": [
        "output.content"
      ]
    },
    {
      "cell_type": "code",
      "execution_count": 135,
      "metadata": {
        "colab": {
          "base_uri": "https://localhost:8080/"
        },
        "id": "pmYFyykcUySU",
        "outputId": "5e289b7e-7fe4-4c10-d89a-8d61918f9d54"
      },
      "outputs": [
        {
          "data": {
            "text/plain": [
              "['Oh',\n",
              " 'Samsung',\n",
              " 'the master of disappointment! You claim to be a tech giant',\n",
              " \"but can't even meet the basic demands of your users. 8 GB RAM? Ha! Who needs that when you can settle for less? Clearly\",\n",
              " 'Samsung believes in giving you just enough to keep you unsatisfied.\\n\\nAnd let\\'s talk about the size of this so-called \"lightweight\" product. At a whopping 0.9 x 7.7 x 16.2 cm',\n",
              " \"it's practically a brick! Who needs a sleek and portable device when you can have something that resembles a mini-monolith? Samsung really knows how to make you feel like you're carrying a burden in your pocket.\\n\\nBut wait\",\n",
              " \"there's more! The cherry on top of this disappointment sundae is the lack of a 500 GB memory. Samsung must think you're living in the Stone Age\",\n",
              " 'still clinging to the hope of having ample storage space. Sorry',\n",
              " 'but Samsung believes in keeping your digital life as cramped as possible.\\n\\nSo',\n",
              " 'congratulations Samsung',\n",
              " \"you've managed to underdeliver once again. Your inability to meet basic user demands truly sets you apart from the competition. Keep up the mediocre work!\"]"
            ]
          },
          "execution_count": 135,
          "metadata": {},
          "output_type": "execute_result"
        }
      ],
      "source": [
        "roasts = output_parser.parse(output.content)\n",
        "roasts"
      ]
    },
    {
      "cell_type": "code",
      "execution_count": 136,
      "metadata": {
        "colab": {
          "base_uri": "https://localhost:8080/"
        },
        "id": "N6WKlEJLvSlQ",
        "outputId": "a0c2762f-5de4-4a47-83d4-a4598ba81f6f"
      },
      "outputs": [
        {
          "data": {
            "text/plain": [
              "list"
            ]
          },
          "execution_count": 136,
          "metadata": {},
          "output_type": "execute_result"
        }
      ],
      "source": [
        "type(roasts)"
      ]
    },
    {
      "cell_type": "markdown",
      "metadata": {
        "id": "RqoD9ZcQyLhu"
      },
      "source": [
        "## Pydantic OutputParser"
      ]
    },
    {
      "cell_type": "code",
      "execution_count": 137,
      "metadata": {
        "id": "40w93N1UXNqN"
      },
      "outputs": [],
      "source": [
        "from langchain.output_parsers import PydanticOutputParser\n",
        "from pydantic import BaseModel, Field, validator\n",
        "from typing import List"
      ]
    },
    {
      "cell_type": "code",
      "execution_count": 138,
      "metadata": {
        "id": "zEIrz8kvy9MV"
      },
      "outputs": [],
      "source": [
        "llm = ChatOpenAI(temperature=0.0)"
      ]
    },
    {
      "cell_type": "code",
      "execution_count": null,
      "metadata": {
        "id": "1iTCmkSFzOwa"
      },
      "outputs": [],
      "source": [
        "# Define your desired data structure.\n",
        "class BrandInfo(BaseModel):\n",
        "    Product_Brand: str = Field(description=\"This is the name of the brand\")\n",
        "    reasoning: str = Field(description=\"This is the reasons for the score\")\n",
        "    likelihood_of_success: int = Field(description=\"This is an integer score between 1-10\")\n",
        "\n",
        "    # You can add custom validation logic easily with Pydantic.\n",
        "    @validator('likelihood_of_success')\n",
        "    def check_score(cls, field):\n",
        "        if field >10:\n",
        "            raise ValueError(\"Badly formed Score\")\n",
        "        return field"
      ]
    },
    {
      "cell_type": "code",
      "execution_count": null,
      "metadata": {
        "id": "oHlyhjCM0_U7"
      },
      "outputs": [],
      "source": [
        "# Set up a parser + inject instructions into the prompt template.\n",
        "pydantic_parser = PydanticOutputParser(pydantic_object=BrandInfo)\n",
        "\n",
        "format_instructions = pydantic_parser.get_format_instructions()\n"
      ]
    },
    {
      "cell_type": "code",
      "execution_count": null,
      "metadata": {
        "id": "W768gTjwzevR"
      },
      "outputs": [],
      "source": [
        "template_string = \"\"\"You are a master branding consulatant who specializes in naming brands. \\\n",
        "You come up with catchy and memorable brand names.\n",
        "\n",
        "Take the brand description below delimited by triple backticks and use it to create the name for a brand.\n",
        "\n",
        "brand description: ```{brand_description}```\n",
        "\n",
        "then based on the description and you hot new brand name give the brand a score 1-10 for how likely it is to succeed.\n",
        "\n",
        "{format_instructions}\n",
        "\"\"\""
      ]
    },
    {
      "cell_type": "code",
      "execution_count": null,
      "metadata": {
        "id": "rVexdaECzevS"
      },
      "outputs": [],
      "source": [
        "prompt = ChatPromptTemplate.from_template(template=template_string)\n",
        "\n",
        "messages = prompt.format_messages(brand_description=\"a cool hip new sneaker brand aimed at rich kids\",\n",
        "                                format_instructions=format_instructions)"
      ]
    },
    {
      "cell_type": "code",
      "execution_count": null,
      "metadata": {
        "colab": {
          "base_uri": "https://localhost:8080/"
        },
        "id": "pkNZrbtjzevS",
        "outputId": "61e1737d-b1e0-4c62-ec60-5d31ec92a859"
      },
      "outputs": [
        {
          "data": {
            "text/plain": [
              "[HumanMessage(content='You are a master branding consulatant who specializes in naming brands. You come up with catchy and memorable brand names.\\n\\nTake the brand description below delimited by triple backticks and use it to create the name for a brand.\\n\\nbrand description: ```a cool hip new sneaker brand aimed at rich kids```\\n\\nthen based on the description and you hot new brand name give the brand a score 1-10 for how likely it is to succeed.\\n\\nThe output should be formatted as a JSON instance that conforms to the JSON schema below.\\n\\nAs an example, for the schema {\"properties\": {\"foo\": {\"title\": \"Foo\", \"description\": \"a list of strings\", \"type\": \"array\", \"items\": {\"type\": \"string\"}}}, \"required\": [\"foo\"]}}\\nthe object {\"foo\": [\"bar\", \"baz\"]} is a well-formatted instance of the schema. The object {\"properties\": {\"foo\": [\"bar\", \"baz\"]}} is not well-formatted.\\n\\nHere is the output schema:\\n```\\n{\"properties\": {\"brand_name\": {\"title\": \"Brand Name\", \"description\": \"This is the name of the brand\", \"type\": \"string\"}, \"reasoning\": {\"title\": \"Reasoning\", \"description\": \"This is the reasons for the score\", \"type\": \"string\"}, \"likelihood_of_success\": {\"title\": \"Likelihood Of Success\", \"description\": \"This is an integer score between 1-10\", \"type\": \"integer\"}}, \"required\": [\"brand_name\", \"reasoning\", \"likelihood_of_success\"]}\\n```\\n', additional_kwargs={}, example=False)]"
            ]
          },
          "execution_count": 69,
          "metadata": {},
          "output_type": "execute_result"
        }
      ],
      "source": [
        "messages"
      ]
    },
    {
      "cell_type": "code",
      "execution_count": null,
      "metadata": {
        "id": "XHHonjAl1t1g"
      },
      "outputs": [],
      "source": [
        "output = llm(messages)"
      ]
    },
    {
      "cell_type": "code",
      "execution_count": null,
      "metadata": {
        "colab": {
          "base_uri": "https://localhost:8080/",
          "height": 52
        },
        "id": "dNDXx49l1t1h",
        "outputId": "edc00763-837c-4874-b204-1b83b070d799"
      },
      "outputs": [
        {
          "data": {
            "application/vnd.google.colaboratory.intrinsic+json": {
              "type": "string"
            },
            "text/plain": [
              "'{\"brand_name\": \"Rich Kicks\", \"reasoning\": \"The name combines the target audience (rich kids) with the product (sneakers) in a catchy and memorable way.\", \"likelihood_of_success\": 8}'"
            ]
          },
          "execution_count": 71,
          "metadata": {},
          "output_type": "execute_result"
        }
      ],
      "source": [
        "output.content"
      ]
    },
    {
      "cell_type": "code",
      "execution_count": null,
      "metadata": {
        "colab": {
          "base_uri": "https://localhost:8080/"
        },
        "id": "FcUnXa5M12b_",
        "outputId": "2873347a-56c8-4c2b-e441-5381a2d81273"
      },
      "outputs": [
        {
          "data": {
            "text/plain": [
              "BrandInfo(brand_name='Rich Kicks', reasoning='The name combines the target audience (rich kids) with the product (sneakers) in a catchy and memorable way.', likelihood_of_success=8)"
            ]
          },
          "execution_count": 72,
          "metadata": {},
          "output_type": "execute_result"
        }
      ],
      "source": [
        "the_brand = pydantic_parser.parse(output.content)\n",
        "\n",
        "the_brand"
      ]
    },
    {
      "cell_type": "code",
      "execution_count": null,
      "metadata": {
        "colab": {
          "base_uri": "https://localhost:8080/"
        },
        "id": "SREazOfl2MyT",
        "outputId": "9dcaba12-02ee-481d-9bb1-339d66fa39c5"
      },
      "outputs": [
        {
          "data": {
            "text/plain": [
              "__main__.BrandInfo"
            ]
          },
          "execution_count": 73,
          "metadata": {},
          "output_type": "execute_result"
        }
      ],
      "source": [
        "type(the_brand)"
      ]
    },
    {
      "cell_type": "code",
      "execution_count": null,
      "metadata": {
        "colab": {
          "base_uri": "https://localhost:8080/",
          "height": 35
        },
        "id": "Oeeo3SDO2QAK",
        "outputId": "5d0b3b36-faf9-4bec-8bd2-1c08e3e42ad8"
      },
      "outputs": [
        {
          "data": {
            "application/vnd.google.colaboratory.intrinsic+json": {
              "type": "string"
            },
            "text/plain": [
              "'Rich Kicks'"
            ]
          },
          "execution_count": 74,
          "metadata": {},
          "output_type": "execute_result"
        }
      ],
      "source": [
        "the_brand.brand_name"
      ]
    },
    {
      "cell_type": "code",
      "execution_count": null,
      "metadata": {
        "colab": {
          "base_uri": "https://localhost:8080/"
        },
        "id": "TTzTsiQc2WaH",
        "outputId": "939524e5-64c2-4157-9b80-8356879fe1c8"
      },
      "outputs": [
        {
          "data": {
            "text/plain": [
              "8"
            ]
          },
          "execution_count": 77,
          "metadata": {},
          "output_type": "execute_result"
        }
      ],
      "source": [
        "the_brand.likelihood_of_success"
      ]
    },
    {
      "cell_type": "code",
      "execution_count": null,
      "metadata": {
        "colab": {
          "base_uri": "https://localhost:8080/"
        },
        "id": "xvSy1Hut2SsY",
        "outputId": "37c52a9a-9a5b-4a95-bd7d-e08c927df92a"
      },
      "outputs": [
        {
          "data": {
            "text/plain": [
              "int"
            ]
          },
          "execution_count": 78,
          "metadata": {},
          "output_type": "execute_result"
        }
      ],
      "source": [
        "type(the_brand.likelihood_of_success)"
      ]
    },
    {
      "cell_type": "markdown",
      "metadata": {
        "id": "LTyM9_O134gB"
      },
      "source": [
        "## Output FixingParser"
      ]
    },
    {
      "cell_type": "code",
      "execution_count": null,
      "metadata": {
        "id": "LBY71o582cvc"
      },
      "outputs": [],
      "source": [
        "class Actor(BaseModel):\n",
        "    name: str = Field(description=\"name of an actor\")\n",
        "    film_names: List[str] = Field(description=\"list of names of films they starred in\")\n",
        "\n",
        "actor_query = \"Generate the filmography for a random actor.\"\n",
        "\n",
        "parser = PydanticOutputParser(pydantic_object=Actor)"
      ]
    },
    {
      "cell_type": "code",
      "execution_count": null,
      "metadata": {
        "id": "Pk0_-CEX4bKU"
      },
      "outputs": [],
      "source": [
        "misformatted = \"{'name': 'Tom Hanks', 'film_names': ['Forrest Gump']}\""
      ]
    },
    {
      "cell_type": "code",
      "execution_count": null,
      "metadata": {
        "colab": {
          "base_uri": "https://localhost:8080/",
          "height": 451
        },
        "id": "TZuHYDzg4esa",
        "outputId": "badd1531-74a0-466e-c729-0057d809f77d"
      },
      "outputs": [
        {
          "ename": "OutputParserException",
          "evalue": "ignored",
          "output_type": "error",
          "traceback": [
            "\u001b[0;31m---------------------------------------------------------------------------\u001b[0m",
            "\u001b[0;31mJSONDecodeError\u001b[0m                           Traceback (most recent call last)",
            "\u001b[0;32m/usr/local/lib/python3.10/dist-packages/langchain/output_parsers/pydantic.py\u001b[0m in \u001b[0;36mparse\u001b[0;34m(self, text)\u001b[0m\n\u001b[1;32m     24\u001b[0m                 \u001b[0mjson_str\u001b[0m \u001b[0;34m=\u001b[0m \u001b[0mmatch\u001b[0m\u001b[0;34m.\u001b[0m\u001b[0mgroup\u001b[0m\u001b[0;34m(\u001b[0m\u001b[0;34m)\u001b[0m\u001b[0;34m\u001b[0m\u001b[0;34m\u001b[0m\u001b[0m\n\u001b[0;32m---> 25\u001b[0;31m             \u001b[0mjson_object\u001b[0m \u001b[0;34m=\u001b[0m \u001b[0mjson\u001b[0m\u001b[0;34m.\u001b[0m\u001b[0mloads\u001b[0m\u001b[0;34m(\u001b[0m\u001b[0mjson_str\u001b[0m\u001b[0;34m,\u001b[0m \u001b[0mstrict\u001b[0m\u001b[0;34m=\u001b[0m\u001b[0;32mFalse\u001b[0m\u001b[0;34m)\u001b[0m\u001b[0;34m\u001b[0m\u001b[0;34m\u001b[0m\u001b[0m\n\u001b[0m\u001b[1;32m     26\u001b[0m             \u001b[0;32mreturn\u001b[0m \u001b[0mself\u001b[0m\u001b[0;34m.\u001b[0m\u001b[0mpydantic_object\u001b[0m\u001b[0;34m.\u001b[0m\u001b[0mparse_obj\u001b[0m\u001b[0;34m(\u001b[0m\u001b[0mjson_object\u001b[0m\u001b[0;34m)\u001b[0m\u001b[0;34m\u001b[0m\u001b[0;34m\u001b[0m\u001b[0m\n",
            "\u001b[0;32m/usr/lib/python3.10/json/__init__.py\u001b[0m in \u001b[0;36mloads\u001b[0;34m(s, cls, object_hook, parse_float, parse_int, parse_constant, object_pairs_hook, **kw)\u001b[0m\n\u001b[1;32m    358\u001b[0m         \u001b[0mkw\u001b[0m\u001b[0;34m[\u001b[0m\u001b[0;34m'parse_constant'\u001b[0m\u001b[0;34m]\u001b[0m \u001b[0;34m=\u001b[0m \u001b[0mparse_constant\u001b[0m\u001b[0;34m\u001b[0m\u001b[0;34m\u001b[0m\u001b[0m\n\u001b[0;32m--> 359\u001b[0;31m     \u001b[0;32mreturn\u001b[0m \u001b[0mcls\u001b[0m\u001b[0;34m(\u001b[0m\u001b[0;34m**\u001b[0m\u001b[0mkw\u001b[0m\u001b[0;34m)\u001b[0m\u001b[0;34m.\u001b[0m\u001b[0mdecode\u001b[0m\u001b[0;34m(\u001b[0m\u001b[0ms\u001b[0m\u001b[0;34m)\u001b[0m\u001b[0;34m\u001b[0m\u001b[0;34m\u001b[0m\u001b[0m\n\u001b[0m",
            "\u001b[0;32m/usr/lib/python3.10/json/decoder.py\u001b[0m in \u001b[0;36mdecode\u001b[0;34m(self, s, _w)\u001b[0m\n\u001b[1;32m    336\u001b[0m         \"\"\"\n\u001b[0;32m--> 337\u001b[0;31m         \u001b[0mobj\u001b[0m\u001b[0;34m,\u001b[0m \u001b[0mend\u001b[0m \u001b[0;34m=\u001b[0m \u001b[0mself\u001b[0m\u001b[0;34m.\u001b[0m\u001b[0mraw_decode\u001b[0m\u001b[0;34m(\u001b[0m\u001b[0ms\u001b[0m\u001b[0;34m,\u001b[0m \u001b[0midx\u001b[0m\u001b[0;34m=\u001b[0m\u001b[0m_w\u001b[0m\u001b[0;34m(\u001b[0m\u001b[0ms\u001b[0m\u001b[0;34m,\u001b[0m \u001b[0;36m0\u001b[0m\u001b[0;34m)\u001b[0m\u001b[0;34m.\u001b[0m\u001b[0mend\u001b[0m\u001b[0;34m(\u001b[0m\u001b[0;34m)\u001b[0m\u001b[0;34m)\u001b[0m\u001b[0;34m\u001b[0m\u001b[0;34m\u001b[0m\u001b[0m\n\u001b[0m\u001b[1;32m    338\u001b[0m         \u001b[0mend\u001b[0m \u001b[0;34m=\u001b[0m \u001b[0m_w\u001b[0m\u001b[0;34m(\u001b[0m\u001b[0ms\u001b[0m\u001b[0;34m,\u001b[0m \u001b[0mend\u001b[0m\u001b[0;34m)\u001b[0m\u001b[0;34m.\u001b[0m\u001b[0mend\u001b[0m\u001b[0;34m(\u001b[0m\u001b[0;34m)\u001b[0m\u001b[0;34m\u001b[0m\u001b[0;34m\u001b[0m\u001b[0m\n",
            "\u001b[0;32m/usr/lib/python3.10/json/decoder.py\u001b[0m in \u001b[0;36mraw_decode\u001b[0;34m(self, s, idx)\u001b[0m\n\u001b[1;32m    352\u001b[0m         \u001b[0;32mtry\u001b[0m\u001b[0;34m:\u001b[0m\u001b[0;34m\u001b[0m\u001b[0;34m\u001b[0m\u001b[0m\n\u001b[0;32m--> 353\u001b[0;31m             \u001b[0mobj\u001b[0m\u001b[0;34m,\u001b[0m \u001b[0mend\u001b[0m \u001b[0;34m=\u001b[0m \u001b[0mself\u001b[0m\u001b[0;34m.\u001b[0m\u001b[0mscan_once\u001b[0m\u001b[0;34m(\u001b[0m\u001b[0ms\u001b[0m\u001b[0;34m,\u001b[0m \u001b[0midx\u001b[0m\u001b[0;34m)\u001b[0m\u001b[0;34m\u001b[0m\u001b[0;34m\u001b[0m\u001b[0m\n\u001b[0m\u001b[1;32m    354\u001b[0m         \u001b[0;32mexcept\u001b[0m \u001b[0mStopIteration\u001b[0m \u001b[0;32mas\u001b[0m \u001b[0merr\u001b[0m\u001b[0;34m:\u001b[0m\u001b[0;34m\u001b[0m\u001b[0;34m\u001b[0m\u001b[0m\n",
            "\u001b[0;31mJSONDecodeError\u001b[0m: Expecting property name enclosed in double quotes: line 1 column 2 (char 1)",
            "\nDuring handling of the above exception, another exception occurred:\n",
            "\u001b[0;31mOutputParserException\u001b[0m                     Traceback (most recent call last)",
            "\u001b[0;32m<ipython-input-81-92abc77851ee>\u001b[0m in \u001b[0;36m<cell line: 1>\u001b[0;34m()\u001b[0m\n\u001b[0;32m----> 1\u001b[0;31m \u001b[0mparser\u001b[0m\u001b[0;34m.\u001b[0m\u001b[0mparse\u001b[0m\u001b[0;34m(\u001b[0m\u001b[0mmisformatted\u001b[0m\u001b[0;34m)\u001b[0m\u001b[0;34m\u001b[0m\u001b[0;34m\u001b[0m\u001b[0m\n\u001b[0m",
            "\u001b[0;32m/usr/local/lib/python3.10/dist-packages/langchain/output_parsers/pydantic.py\u001b[0m in \u001b[0;36mparse\u001b[0;34m(self, text)\u001b[0m\n\u001b[1;32m     29\u001b[0m             \u001b[0mname\u001b[0m \u001b[0;34m=\u001b[0m \u001b[0mself\u001b[0m\u001b[0;34m.\u001b[0m\u001b[0mpydantic_object\u001b[0m\u001b[0;34m.\u001b[0m\u001b[0m__name__\u001b[0m\u001b[0;34m\u001b[0m\u001b[0;34m\u001b[0m\u001b[0m\n\u001b[1;32m     30\u001b[0m             \u001b[0mmsg\u001b[0m \u001b[0;34m=\u001b[0m \u001b[0;34mf\"Failed to parse {name} from completion {text}. Got: {e}\"\u001b[0m\u001b[0;34m\u001b[0m\u001b[0;34m\u001b[0m\u001b[0m\n\u001b[0;32m---> 31\u001b[0;31m             \u001b[0;32mraise\u001b[0m \u001b[0mOutputParserException\u001b[0m\u001b[0;34m(\u001b[0m\u001b[0mmsg\u001b[0m\u001b[0;34m)\u001b[0m\u001b[0;34m\u001b[0m\u001b[0;34m\u001b[0m\u001b[0m\n\u001b[0m\u001b[1;32m     32\u001b[0m \u001b[0;34m\u001b[0m\u001b[0m\n\u001b[1;32m     33\u001b[0m     \u001b[0;32mdef\u001b[0m \u001b[0mget_format_instructions\u001b[0m\u001b[0;34m(\u001b[0m\u001b[0mself\u001b[0m\u001b[0;34m)\u001b[0m \u001b[0;34m->\u001b[0m \u001b[0mstr\u001b[0m\u001b[0;34m:\u001b[0m\u001b[0;34m\u001b[0m\u001b[0;34m\u001b[0m\u001b[0m\n",
            "\u001b[0;31mOutputParserException\u001b[0m: Failed to parse Actor from completion {'name': 'Tom Hanks', 'film_names': ['Forrest Gump']}. Got: Expecting property name enclosed in double quotes: line 1 column 2 (char 1)"
          ]
        }
      ],
      "source": [
        "parser.parse(misformatted)"
      ]
    },
    {
      "cell_type": "code",
      "execution_count": null,
      "metadata": {
        "id": "SQb4uW8N4kbz"
      },
      "outputs": [],
      "source": [
        "from langchain.output_parsers import OutputFixingParser\n",
        "\n",
        "new_parser = OutputFixingParser.from_llm(parser=parser,\n",
        "                                         llm=ChatOpenAI())"
      ]
    },
    {
      "cell_type": "code",
      "execution_count": null,
      "metadata": {
        "colab": {
          "base_uri": "https://localhost:8080/"
        },
        "id": "47R0-wDr4yJw",
        "outputId": "550bb143-4248-4521-abc9-3e4a2ba3a019"
      },
      "outputs": [
        {
          "data": {
            "text/plain": [
              "Actor(name='Tom Hanks', film_names=['Forrest Gump'])"
            ]
          },
          "execution_count": 83,
          "metadata": {},
          "output_type": "execute_result"
        }
      ],
      "source": [
        "new_parser.parse(misformatted)"
      ]
    },
    {
      "cell_type": "code",
      "execution_count": null,
      "metadata": {
        "colab": {
          "base_uri": "https://localhost:8080/"
        },
        "id": "dodRU-ExBrCu",
        "outputId": "10ba9085-caaa-47b9-ebb2-4f66042a1393"
      },
      "outputs": [
        {
          "name": "stdout",
          "output_type": "stream",
          "text": [
            "Instructions:\n",
            "--------------\n",
            "{instructions}\n",
            "--------------\n",
            "Completion:\n",
            "--------------\n",
            "{completion}\n",
            "--------------\n",
            "\n",
            "Above, the Completion did not satisfy the constraints given in the Instructions.\n",
            "Error:\n",
            "--------------\n",
            "{error}\n",
            "--------------\n",
            "\n",
            "Please try again. Please only respond with an answer that satisfies the constraints laid out in the Instructions:\n"
          ]
        }
      ],
      "source": [
        "#lets look at the prompt\n",
        "print(new_parser.retry_chain.prompt.template)"
      ]
    },
    {
      "cell_type": "markdown",
      "metadata": {
        "id": "2ZpvfV8U5RE8"
      },
      "source": [
        "## RetryOutputParser\n",
        "\n",
        "If you can't fix the output then you need to retry from the llm"
      ]
    },
    {
      "cell_type": "code",
      "execution_count": null,
      "metadata": {
        "id": "dnCQ7sZE4696"
      },
      "outputs": [],
      "source": [
        "from langchain.output_parsers import PydanticOutputParser, OutputFixingParser, RetryOutputParser"
      ]
    },
    {
      "cell_type": "code",
      "execution_count": null,
      "metadata": {
        "id": "3KZLl1aqZWN1"
      },
      "outputs": [],
      "source": [
        "template = \"\"\"Based on the user question, provide an Action and Action Input for what step should be taken.\n",
        "{format_instructions}\n",
        "Question: {query}\n",
        "Response:\"\"\"\n",
        "class Action(BaseModel):\n",
        "    action: str = Field(description=\"action to take\")\n",
        "    action_input: str = Field(description=\"input to the action\")\n",
        "\n",
        "parser = PydanticOutputParser(pydantic_object=Action)"
      ]
    },
    {
      "cell_type": "code",
      "execution_count": null,
      "metadata": {
        "id": "ce4rM0-7ZYRO"
      },
      "outputs": [],
      "source": [
        "prompt = PromptTemplate(\n",
        "    template=\"Answer the user query.\\n{format_instructions}\\n{query}\\n\",\n",
        "    input_variables=[\"query\"],\n",
        "    partial_variables={\"format_instructions\": parser.get_format_instructions()}\n",
        ")"
      ]
    },
    {
      "cell_type": "code",
      "execution_count": null,
      "metadata": {
        "id": "0NVEP69HZble"
      },
      "outputs": [],
      "source": [
        "prompt_value = prompt.format_prompt(query=\"who is leo di caprios gf?\")"
      ]
    },
    {
      "cell_type": "code",
      "execution_count": null,
      "metadata": {
        "colab": {
          "base_uri": "https://localhost:8080/"
        },
        "id": "qxUDVZrqZi4b",
        "outputId": "1dd5ef26-dbda-4b17-c004-f0ce8a26363d"
      },
      "outputs": [
        {
          "data": {
            "text/plain": [
              "StringPromptValue(text='Answer the user query.\\nThe output should be formatted as a JSON instance that conforms to the JSON schema below.\\n\\nAs an example, for the schema {\"properties\": {\"foo\": {\"title\": \"Foo\", \"description\": \"a list of strings\", \"type\": \"array\", \"items\": {\"type\": \"string\"}}}, \"required\": [\"foo\"]}}\\nthe object {\"foo\": [\"bar\", \"baz\"]} is a well-formatted instance of the schema. The object {\"properties\": {\"foo\": [\"bar\", \"baz\"]}} is not well-formatted.\\n\\nHere is the output schema:\\n```\\n{\"properties\": {\"action\": {\"title\": \"Action\", \"description\": \"action to take\", \"type\": \"string\"}, \"action_input\": {\"title\": \"Action Input\", \"description\": \"input to the action\", \"type\": \"string\"}}, \"required\": [\"action\", \"action_input\"]}\\n```\\nwho is leo di caprios gf?\\n')"
            ]
          },
          "execution_count": 92,
          "metadata": {},
          "output_type": "execute_result"
        }
      ],
      "source": [
        "prompt_value"
      ]
    },
    {
      "cell_type": "code",
      "execution_count": null,
      "metadata": {
        "id": "ZFyZVPDRZkaH"
      },
      "outputs": [],
      "source": [
        "bad_response = '{\"action\": \"search\"}'"
      ]
    },
    {
      "cell_type": "code",
      "execution_count": null,
      "metadata": {
        "colab": {
          "base_uri": "https://localhost:8080/",
          "height": 503
        },
        "id": "7dc6OlpwZpbJ",
        "outputId": "3e9b9906-aba9-45ff-cff5-2af43b2c0662"
      },
      "outputs": [
        {
          "ename": "OutputParserException",
          "evalue": "ignored",
          "output_type": "error",
          "traceback": [
            "\u001b[0;31m---------------------------------------------------------------------------\u001b[0m",
            "\u001b[0;31mValidationError\u001b[0m                           Traceback (most recent call last)",
            "\u001b[0;32m/usr/local/lib/python3.10/dist-packages/langchain/output_parsers/pydantic.py\u001b[0m in \u001b[0;36mparse\u001b[0;34m(self, text)\u001b[0m\n\u001b[1;32m     25\u001b[0m             \u001b[0mjson_object\u001b[0m \u001b[0;34m=\u001b[0m \u001b[0mjson\u001b[0m\u001b[0;34m.\u001b[0m\u001b[0mloads\u001b[0m\u001b[0;34m(\u001b[0m\u001b[0mjson_str\u001b[0m\u001b[0;34m,\u001b[0m \u001b[0mstrict\u001b[0m\u001b[0;34m=\u001b[0m\u001b[0;32mFalse\u001b[0m\u001b[0;34m)\u001b[0m\u001b[0;34m\u001b[0m\u001b[0;34m\u001b[0m\u001b[0m\n\u001b[0;32m---> 26\u001b[0;31m             \u001b[0;32mreturn\u001b[0m \u001b[0mself\u001b[0m\u001b[0;34m.\u001b[0m\u001b[0mpydantic_object\u001b[0m\u001b[0;34m.\u001b[0m\u001b[0mparse_obj\u001b[0m\u001b[0;34m(\u001b[0m\u001b[0mjson_object\u001b[0m\u001b[0;34m)\u001b[0m\u001b[0;34m\u001b[0m\u001b[0;34m\u001b[0m\u001b[0m\n\u001b[0m\u001b[1;32m     27\u001b[0m \u001b[0;34m\u001b[0m\u001b[0m\n",
            "\u001b[0;32m/usr/local/lib/python3.10/dist-packages/pydantic/main.cpython-310-x86_64-linux-gnu.so\u001b[0m in \u001b[0;36mpydantic.main.BaseModel.parse_obj\u001b[0;34m()\u001b[0m\n",
            "\u001b[0;32m/usr/local/lib/python3.10/dist-packages/pydantic/main.cpython-310-x86_64-linux-gnu.so\u001b[0m in \u001b[0;36mpydantic.main.BaseModel.__init__\u001b[0;34m()\u001b[0m\n",
            "\u001b[0;31mValidationError\u001b[0m: 1 validation error for Action\naction_input\n  field required (type=value_error.missing)",
            "\nDuring handling of the above exception, another exception occurred:\n",
            "\u001b[0;31mOutputParserException\u001b[0m                     Traceback (most recent call last)",
            "\u001b[0;32m<ipython-input-94-e4637f3c75c6>\u001b[0m in \u001b[0;36m<cell line: 1>\u001b[0;34m()\u001b[0m\n\u001b[0;32m----> 1\u001b[0;31m \u001b[0mparser\u001b[0m\u001b[0;34m.\u001b[0m\u001b[0mparse\u001b[0m\u001b[0;34m(\u001b[0m\u001b[0mbad_response\u001b[0m\u001b[0;34m)\u001b[0m\u001b[0;34m\u001b[0m\u001b[0;34m\u001b[0m\u001b[0m\n\u001b[0m",
            "\u001b[0;32m/usr/local/lib/python3.10/dist-packages/langchain/output_parsers/pydantic.py\u001b[0m in \u001b[0;36mparse\u001b[0;34m(self, text)\u001b[0m\n\u001b[1;32m     29\u001b[0m             \u001b[0mname\u001b[0m \u001b[0;34m=\u001b[0m \u001b[0mself\u001b[0m\u001b[0;34m.\u001b[0m\u001b[0mpydantic_object\u001b[0m\u001b[0;34m.\u001b[0m\u001b[0m__name__\u001b[0m\u001b[0;34m\u001b[0m\u001b[0;34m\u001b[0m\u001b[0m\n\u001b[1;32m     30\u001b[0m             \u001b[0mmsg\u001b[0m \u001b[0;34m=\u001b[0m \u001b[0;34mf\"Failed to parse {name} from completion {text}. Got: {e}\"\u001b[0m\u001b[0;34m\u001b[0m\u001b[0;34m\u001b[0m\u001b[0m\n\u001b[0;32m---> 31\u001b[0;31m             \u001b[0;32mraise\u001b[0m \u001b[0mOutputParserException\u001b[0m\u001b[0;34m(\u001b[0m\u001b[0mmsg\u001b[0m\u001b[0;34m)\u001b[0m\u001b[0;34m\u001b[0m\u001b[0;34m\u001b[0m\u001b[0m\n\u001b[0m\u001b[1;32m     32\u001b[0m \u001b[0;34m\u001b[0m\u001b[0m\n\u001b[1;32m     33\u001b[0m     \u001b[0;32mdef\u001b[0m \u001b[0mget_format_instructions\u001b[0m\u001b[0;34m(\u001b[0m\u001b[0mself\u001b[0m\u001b[0;34m)\u001b[0m \u001b[0;34m->\u001b[0m \u001b[0mstr\u001b[0m\u001b[0;34m:\u001b[0m\u001b[0;34m\u001b[0m\u001b[0;34m\u001b[0m\u001b[0m\n",
            "\u001b[0;31mOutputParserException\u001b[0m: Failed to parse Action from completion {\"action\": \"search\"}. Got: 1 validation error for Action\naction_input\n  field required (type=value_error.missing)"
          ]
        }
      ],
      "source": [
        "parser.parse(bad_response)"
      ]
    },
    {
      "cell_type": "code",
      "execution_count": null,
      "metadata": {
        "id": "UCzgsfliZsLw"
      },
      "outputs": [],
      "source": [
        "fix_parser = OutputFixingParser.from_llm(parser=parser, llm=ChatOpenAI())"
      ]
    },
    {
      "cell_type": "code",
      "execution_count": null,
      "metadata": {
        "colab": {
          "base_uri": "https://localhost:8080/"
        },
        "id": "eHmjqjbgZvr9",
        "outputId": "b69f47eb-1893-4a99-a388-5b804da0a89d"
      },
      "outputs": [
        {
          "data": {
            "text/plain": [
              "Action(action='search', action_input='')"
            ]
          },
          "execution_count": 96,
          "metadata": {},
          "output_type": "execute_result"
        }
      ],
      "source": [
        "fix_parser.parse(bad_response)"
      ]
    },
    {
      "cell_type": "code",
      "execution_count": null,
      "metadata": {
        "id": "sZOJhHrCZ02W"
      },
      "outputs": [],
      "source": [
        "from langchain.output_parsers import RetryWithErrorOutputParser"
      ]
    },
    {
      "cell_type": "code",
      "execution_count": null,
      "metadata": {
        "id": "Hh-JlfVOZ-2R"
      },
      "outputs": [],
      "source": [
        "retry_parser = RetryWithErrorOutputParser.from_llm(parser=parser, llm=OpenAI(temperature=0))"
      ]
    },
    {
      "cell_type": "code",
      "execution_count": null,
      "metadata": {
        "colab": {
          "base_uri": "https://localhost:8080/"
        },
        "id": "ndpaDX2-aBtB",
        "outputId": "441fc539-93a7-49b0-bcc3-fd5fbf4f19cb"
      },
      "outputs": [
        {
          "data": {
            "text/plain": [
              "Action(action='search', action_input='who is leo di caprios gf?')"
            ]
          },
          "execution_count": 99,
          "metadata": {},
          "output_type": "execute_result"
        }
      ],
      "source": [
        "retry_parser.parse_with_prompt(bad_response, prompt_value)"
      ]
    },
    {
      "cell_type": "code",
      "execution_count": null,
      "metadata": {
        "id": "W2hBNQ9O9_rO"
      },
      "outputs": [],
      "source": []
    }
  ],
  "metadata": {
    "colab": {
      "provenance": []
    },
    "kernelspec": {
      "display_name": "Python 3",
      "name": "python3"
    },
    "language_info": {
      "name": "python"
    }
  },
  "nbformat": 4,
  "nbformat_minor": 0
}
